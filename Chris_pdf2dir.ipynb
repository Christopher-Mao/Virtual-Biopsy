{
  "nbformat": 4,
  "nbformat_minor": 0,
  "metadata": {
    "colab": {
      "provenance": [],
      "collapsed_sections": [
        "1dxFkevrHXHF"
      ]
    },
    "kernelspec": {
      "name": "python3",
      "display_name": "Python 3"
    },
    "language_info": {
      "name": "python"
    }
  },
  "cells": [
    {
      "cell_type": "code",
      "source": [
        "!pip install PyMuPDF"
      ],
      "metadata": {
        "id": "imqkDYoB5TSo",
        "colab": {
          "base_uri": "https://localhost:8080/"
        },
        "outputId": "1541b759-fdf4-49f4-bfc7-85b3d8ba7316"
      },
      "execution_count": null,
      "outputs": [
        {
          "output_type": "stream",
          "name": "stdout",
          "text": [
            "Collecting PyMuPDF\n",
            "  Downloading PyMuPDF-1.24.13-cp39-abi3-manylinux2014_x86_64.manylinux_2_17_x86_64.whl.metadata (3.4 kB)\n",
            "Downloading PyMuPDF-1.24.13-cp39-abi3-manylinux2014_x86_64.manylinux_2_17_x86_64.whl (19.8 MB)\n",
            "\u001b[2K   \u001b[90m━━━━━━━━━━━━━━━━━━━━━━━━━━━━━━━━━━━━━━━━\u001b[0m \u001b[32m19.8/19.8 MB\u001b[0m \u001b[31m27.7 MB/s\u001b[0m eta \u001b[36m0:00:00\u001b[0m\n",
            "\u001b[?25hInstalling collected packages: PyMuPDF\n",
            "Successfully installed PyMuPDF-1.24.13\n"
          ]
        }
      ]
    },
    {
      "cell_type": "code",
      "execution_count": null,
      "metadata": {
        "colab": {
          "base_uri": "https://localhost:8080/"
        },
        "id": "bSgc7xjk3nxG",
        "outputId": "aa292e7a-7e34-4fc6-a050-9d0df0f10b11"
      },
      "outputs": [
        {
          "output_type": "stream",
          "name": "stdout",
          "text": [
            "Mounted at /content/drive\n"
          ]
        }
      ],
      "source": [
        "from google.colab import drive\n",
        "drive.mount('/content/drive')"
      ]
    },
    {
      "cell_type": "code",
      "source": [
        "import fitz  # PyMuPDF\n",
        "import re\n",
        "import os\n",
        "import shutil"
      ],
      "metadata": {
        "id": "li2h5Sb95UY8"
      },
      "execution_count": null,
      "outputs": []
    },
    {
      "cell_type": "code",
      "source": [
        "# Makes a filtered copy of coreg PDF that only keeps pairs\n",
        "def extract_images_and_textboxes(pdf_path, output_path):\n",
        "    doc = fitz.open(pdf_path)\n",
        "    new_pdf = fitz.open()\n",
        "    for page_num in range(doc.page_count):\n",
        "        page = doc[page_num]\n",
        "        #image_count = len(page.get_images())\n",
        "        textbox_count = len(page.get_text(\"blocks\"))\n",
        "        if textbox_count == 2: # if the pg has 2 textboxes, then add to new pdf\n",
        "            new_pdf.insert_pdf(doc, from_page=page_num, to_page=page_num)\n",
        "    new_pdf.save(output_path)\n",
        "    new_pdf.close()\n",
        "\n",
        "# From the filtered pdf, makes a text file that contains the text from each page\n",
        "def extract_text_from_pdf(pdf_path, output_text_file):\n",
        "    doc = fitz.open(pdf_path)\n",
        "    with open(output_text_file, 'w') as f:\n",
        "        for page_num in range(doc.page_count):\n",
        "            page = doc[page_num]\n",
        "            text = page.get_text()\n",
        "            f.write(f\"Page {page_num + 1}:\\n{text}\\n\\n\")\n",
        "\n",
        "# From the text file, extract the OCT frame number\n",
        "def extract_first_number_after_page(text_file):\n",
        "    with open(text_file, 'r') as f:\n",
        "        text = f.read()\n",
        "    numbers = re.findall(r'Page \\d+:\\s*(\\d+)', text)\n",
        "    return numbers\n",
        "\n",
        "# From \"OCT\" folder, copies the png's that have \"OCT_Volume\" + number + \".png\" into another directory called \"OCT_extracted\"\n",
        "def copy_pngs_by_number(numbers, source_dir, destination_dir):\n",
        "  \"\"\"Copies PNG files based on a list of numbers.\n",
        "\n",
        "  Args:\n",
        "    numbers: A list of numbers to search for in the filename.\n",
        "    source_dir: The directory where the PNG files are located.\n",
        "    destination_dir: The directory where the copied PNG files will be placed.\n",
        "  \"\"\"\n",
        "  if not os.path.exists(destination_dir):\n",
        "    os.makedirs(destination_dir)\n",
        "\n",
        "  for number in numbers:\n",
        "    filename = f\"OCT_Volume{number}.png\"\n",
        "    source_path = os.path.join(source_dir, filename)\n",
        "    destination_path = os.path.join(destination_dir, filename)\n",
        "\n",
        "    if os.path.exists(source_path):\n",
        "      shutil.copy2(source_path, destination_path)\n",
        "      print(f\"Copied {filename} to {destination_dir}\")\n",
        "    else:\n",
        "      print(f\"File {filename} not found in {source_dir}\")\n",
        "\n",
        "# From text file, extracts the name of H&E slides\n",
        "def extract_second_row_after_page(text_file):\n",
        "  \"\"\"Extracts the second row after each \"Page x:\" in a text file.\n",
        "\n",
        "  Args:\n",
        "    text_file: The path to the text file.\n",
        "\n",
        "  Returns:\n",
        "    A list of strings, where each string is the second row after a \"Page x:\"\n",
        "    occurrence.\n",
        "  \"\"\"\n",
        "  second_rows = []\n",
        "  with open(text_file, 'r') as f:\n",
        "    lines = f.readlines()\n",
        "    for i, line in enumerate(lines):\n",
        "      if line.startswith(\"Page\"):\n",
        "        if i + 2 < len(lines):\n",
        "          second_rows.append(lines[i + 2].strip())\n",
        "  return second_rows\n",
        "\n",
        "# From H&E folder, copies the jpg's whose names end with extracted_row + \".jpg\" into another directory called. How the file names begin does not matter. Only that they end with row+\".jpg\"\n",
        "def copy_jpgs_by_row(extracted_rows, source_dir, destination_dir):\n",
        "  \"\"\"Copies JPG files based on a list of row strings.\n",
        "\n",
        "  Args:\n",
        "    extracted_rows: A list of strings to search for in the filename.\n",
        "    source_dir: The directory where the JPG files are located.\n",
        "    destination_dir: The directory where the copied JPG files will be placed.\n",
        "  \"\"\"\n",
        "  if not os.path.exists(destination_dir):\n",
        "    os.makedirs(destination_dir)\n",
        "\n",
        "  for row in extracted_rows:\n",
        "    for filename in os.listdir(source_dir):\n",
        "\n",
        "      if filename.endswith(\" \" + row + \".jpg\"): ###############################################\n",
        "        source_path = os.path.join(source_dir, filename)\n",
        "        destination_path = os.path.join(destination_dir, filename)\n",
        "        if os.path.exists(source_path):\n",
        "          shutil.copy2(source_path, destination_path)\n",
        "          print(f\"Copied {filename} to {destination_dir}\")\n",
        "        else:\n",
        "          print(f\"File {filename} not found in {source_dir}\")\n",
        "\n",
        "      if filename.endswith(\" \" + row + \" x2.5.jpg\"): ###############################################\n",
        "        source_path = os.path.join(source_dir, filename)\n",
        "        destination_path = os.path.join(destination_dir, filename)\n",
        "        if os.path.exists(source_path):\n",
        "          shutil.copy2(source_path, destination_path)\n",
        "          print(f\"Copied {filename} to {destination_dir}\")\n",
        "        else:\n",
        "          print(f\"File {filename} not found in {source_dir}\")\n",
        "\n",
        "      if filename.endswith(\" \" + row + \" H&E x2.5.jpg\"): ###############################################\n",
        "        source_path = os.path.join(source_dir, filename)\n",
        "        destination_path = os.path.join(destination_dir, filename)\n",
        "        if os.path.exists(source_path):\n",
        "          shutil.copy2(source_path, destination_path)\n",
        "          print(f\"Copied {filename} to {destination_dir}\")\n",
        "        else:\n",
        "          print(f\"File {filename} not found in {source_dir}\")\n",
        "\n",
        "      if filename.endswith(\" \" + row + \"  x2.5.jpg\"): ###############################################\n",
        "        source_path = os.path.join(source_dir, filename)\n",
        "        destination_path = os.path.join(destination_dir, filename)\n",
        "        if os.path.exists(source_path):\n",
        "          shutil.copy2(source_path, destination_path)\n",
        "          print(f\"Copied {filename} to {destination_dir}\")\n",
        "        else:\n",
        "          print(f\"File {filename} not found in {source_dir}\")\n",
        "\n",
        "      if filename.endswith(\" \" + row + \" x1.25.jpg\"): ###############################################\n",
        "        source_path = os.path.join(source_dir, filename)\n",
        "        destination_path = os.path.join(destination_dir, filename)\n",
        "        if os.path.exists(source_path):\n",
        "          shutil.copy2(source_path, destination_path)\n",
        "          print(f\"Copied {filename} to {destination_dir}\")\n",
        "        else:\n",
        "          print(f\"File {filename} not found in {source_dir}\")\n"
      ],
      "metadata": {
        "id": "7W6WATHf3t5A"
      },
      "execution_count": null,
      "outputs": []
    },
    {
      "cell_type": "markdown",
      "source": [
        "## Step 1"
      ],
      "metadata": {
        "id": "Y-oGxwgx_TLf"
      }
    },
    {
      "cell_type": "code",
      "source": [
        "pdf_original_name = '24R 16-253 Coreg.pdf'\n",
        "pdf_filtered_name = '24R 16-253 Coreg_Filtered.pdf'\n",
        "txt_filtered_name = '24R 16-253 Coreg_Text.txt'\n",
        "base_path = '/content/drive/MyDrive/Colab Notebooks/Computer Vision/Shared Folder/Computer Vision/'"
      ],
      "metadata": {
        "id": "mMACKkbYxf8N"
      },
      "execution_count": null,
      "outputs": []
    },
    {
      "cell_type": "code",
      "source": [
        "# Create a new coreg pdf with only the OCT/H&E pairs\n",
        "pdf_path = base_path + pdf_original_name\n",
        "output_path = base_path + pdf_filtered_name\n",
        "extract_images_and_textboxes(pdf_path, output_path)\n",
        "print(f\"Filtered PDF saved to {output_path}\")\n",
        "\n",
        "# Create a txt file that extracts coreg info from coreg pdf\n",
        "filtered_pdf_path = base_path + pdf_filtered_name\n",
        "output_text_file = base_path + txt_filtered_name\n",
        "extract_text_from_pdf(filtered_pdf_path, output_text_file)\n",
        "print(f\"Text extracted to {output_text_file}\")\n",
        "\n",
        "# Extract OCT frame numbers from txt file\n",
        "text_file = base_path + txt_filtered_name\n",
        "numbers = extract_first_number_after_page(text_file)\n",
        "print(len(numbers),numbers)\n",
        "\n",
        "# Extract H&E slide names from txt file\n",
        "extracted_rows = extract_second_row_after_page(text_file)\n",
        "print(len(extracted_rows),extracted_rows)"
      ],
      "metadata": {
        "colab": {
          "base_uri": "https://localhost:8080/"
        },
        "collapsed": true,
        "id": "MrrUKv9fEwVR",
        "outputId": "86b4d833-0e2f-4322-b08e-0f65b9dda799"
      },
      "execution_count": null,
      "outputs": [
        {
          "output_type": "stream",
          "name": "stdout",
          "text": [
            "Filtered PDF saved to /content/drive/MyDrive/Colab Notebooks/Computer Vision/Shared Folder/Computer Vision/24R 16-253 Coreg_Filtered.pdf\n",
            "Text extracted to /content/drive/MyDrive/Colab Notebooks/Computer Vision/Shared Folder/Computer Vision/24R 16-253 Coreg_Text.txt\n",
            "64 ['19', '23', '27', '30', '34', '37', '41', '45', '49', '53', '56', '59', '63', '66', '70', '73', '76', '79', '82', '85', '88', '91', '94', '97', '105', '109', '113', '117', '121', '125', '129', '133', '136', '139', '143', '147', '150', '154', '157', '161', '165', '173', '177', '180', '183', '187', '190', '194', '198', '202', '207', '210', '215', '218', '220', '224', '227', '231', '236', '239', '243', '247', '250', '253']\n",
            "64 ['13-L13', '13-L9', '13-L5', '13-L1', '12-L17', '12-L13', '12-L9', '12-L5', '12-L1', '11-L17', '11-L13', '11-L9', '11-L5', '11-L1', '10-L17', '10-L13', '10-L9', '10-L5', '10-L1', '9-L17', '9-L13', '9-L9', '9-L5', '9-L1', '8-L13', '8-L9', '8-L5', '8-L1', '7-L21', '7-L17', '7-L13', '7-L9', '7-L5', '7-L1', '6-L17', '6-L13', '6-L9', '6-L5', '6-L1', '5-L13', '5-L9', '5-L1', '4-L17', '4-L13', '4-L9', '4-L5', '4-L1', '3-L17', '3-L13', '3-L9', '3-L5', '3-L1', '2-L21', '2-L17', '2-L13', '2-L9', '2-L5', '2-L1', '1-L21', '1-L17', '1-L13', '1-L9', '1-L5', '1-L1']\n"
          ]
        }
      ]
    },
    {
      "cell_type": "code",
      "source": [
        "'''\n",
        "# Extract OCT frame numbers from txt file\n",
        "text_file = base_path + '13RP Coreg_Text.txt'\n",
        "numbers = extract_first_number_after_page(text_file)\n",
        "print(len(numbers),numbers)\n",
        "\n",
        "# Extract H&E slide names from txt file\n",
        "extracted_rows = extract_second_row_after_page(text_file)\n",
        "print(len(extracted_rows),extracted_rows)\n",
        "'''"
      ],
      "metadata": {
        "colab": {
          "base_uri": "https://localhost:8080/"
        },
        "collapsed": true,
        "id": "KT3V9U03dGtT",
        "outputId": "525fdfe5-fa4d-4b8b-fabe-0859ac4b9e03"
      },
      "execution_count": null,
      "outputs": [
        {
          "output_type": "stream",
          "name": "stdout",
          "text": [
            "65 ['51', '54', '56', '59', '63', '66', '69', '73', '76', '79', '82', '86', '89', '92', '95', '97', '100', '103', '106', '108', '111', '114', '117', '119', '123', '127', '131', '135', '139', '141', '143', '145', '146', '148', '150', '152', '155', '158', '160', '163', '165', '168', '172', '175', '178', '182', '185', '188', '190', '192', '198', '201', '204', '206', '209', '211', '214', '217', '220', '222', '224', '227', '230', '233', '235']\n",
            "65 ['15-L1', '14-L17', '14-L13', '14-L9', '14-L5', '14-L1', '13-L17', '13-L13', '13-L9', '13-L5', '13-L1', '12-L13', '12-L9', '12-L5', '12-L1', '11-L21', '11-L17', '11-L13', '11-L9', '11-L5', '11-L1', '10-L13', '10-L9', '10-L5', '10-L1', '9-L13', '9-L9', '9-L5', '9-L1', '8-L17', '8-L13', '8-L9', '8-L5', '8-L1', '7-L13', '7-L9', '7-L5', '7-L1', '6-L13', '6-L9', '6-L5', '6-L1', '5-L17', '5-L13', '5-L9', '5-L5', '5-L1', '4-L13', '4-L9', '4-L5', '4-L1', '3-L13', '3-L9', '3-L5', '3-L1', '2-L17', '2-L13', '2-L9', '2-L5', '2-L1', '1-L17', '1-L13', '1-L9', '1-L5', '1-L1']\n"
          ]
        }
      ]
    },
    {
      "cell_type": "code",
      "source": [
        "frames_dir = base_path + 'OCT_all'\n",
        "frames_copied_dir = base_path + 'OCT'\n",
        "copy_pngs_by_number(numbers, frames_dir, frames_copied_dir)"
      ],
      "metadata": {
        "colab": {
          "base_uri": "https://localhost:8080/"
        },
        "collapsed": true,
        "id": "CLv27ELaJa2I",
        "outputId": "6466023e-820d-421c-eb73-3bcb266ff025"
      },
      "execution_count": null,
      "outputs": [
        {
          "output_type": "stream",
          "name": "stdout",
          "text": [
            "Copied OCT_Volume19.png to /content/drive/MyDrive/Colab Notebooks/Computer Vision/Shared Folder/Computer Vision/OCT\n",
            "Copied OCT_Volume23.png to /content/drive/MyDrive/Colab Notebooks/Computer Vision/Shared Folder/Computer Vision/OCT\n",
            "Copied OCT_Volume27.png to /content/drive/MyDrive/Colab Notebooks/Computer Vision/Shared Folder/Computer Vision/OCT\n",
            "Copied OCT_Volume30.png to /content/drive/MyDrive/Colab Notebooks/Computer Vision/Shared Folder/Computer Vision/OCT\n",
            "Copied OCT_Volume34.png to /content/drive/MyDrive/Colab Notebooks/Computer Vision/Shared Folder/Computer Vision/OCT\n",
            "Copied OCT_Volume37.png to /content/drive/MyDrive/Colab Notebooks/Computer Vision/Shared Folder/Computer Vision/OCT\n",
            "Copied OCT_Volume41.png to /content/drive/MyDrive/Colab Notebooks/Computer Vision/Shared Folder/Computer Vision/OCT\n",
            "Copied OCT_Volume45.png to /content/drive/MyDrive/Colab Notebooks/Computer Vision/Shared Folder/Computer Vision/OCT\n",
            "Copied OCT_Volume49.png to /content/drive/MyDrive/Colab Notebooks/Computer Vision/Shared Folder/Computer Vision/OCT\n",
            "Copied OCT_Volume53.png to /content/drive/MyDrive/Colab Notebooks/Computer Vision/Shared Folder/Computer Vision/OCT\n",
            "Copied OCT_Volume56.png to /content/drive/MyDrive/Colab Notebooks/Computer Vision/Shared Folder/Computer Vision/OCT\n",
            "Copied OCT_Volume59.png to /content/drive/MyDrive/Colab Notebooks/Computer Vision/Shared Folder/Computer Vision/OCT\n",
            "Copied OCT_Volume63.png to /content/drive/MyDrive/Colab Notebooks/Computer Vision/Shared Folder/Computer Vision/OCT\n",
            "Copied OCT_Volume66.png to /content/drive/MyDrive/Colab Notebooks/Computer Vision/Shared Folder/Computer Vision/OCT\n",
            "Copied OCT_Volume70.png to /content/drive/MyDrive/Colab Notebooks/Computer Vision/Shared Folder/Computer Vision/OCT\n",
            "Copied OCT_Volume73.png to /content/drive/MyDrive/Colab Notebooks/Computer Vision/Shared Folder/Computer Vision/OCT\n",
            "Copied OCT_Volume76.png to /content/drive/MyDrive/Colab Notebooks/Computer Vision/Shared Folder/Computer Vision/OCT\n",
            "Copied OCT_Volume79.png to /content/drive/MyDrive/Colab Notebooks/Computer Vision/Shared Folder/Computer Vision/OCT\n",
            "Copied OCT_Volume82.png to /content/drive/MyDrive/Colab Notebooks/Computer Vision/Shared Folder/Computer Vision/OCT\n",
            "Copied OCT_Volume85.png to /content/drive/MyDrive/Colab Notebooks/Computer Vision/Shared Folder/Computer Vision/OCT\n",
            "Copied OCT_Volume88.png to /content/drive/MyDrive/Colab Notebooks/Computer Vision/Shared Folder/Computer Vision/OCT\n",
            "Copied OCT_Volume91.png to /content/drive/MyDrive/Colab Notebooks/Computer Vision/Shared Folder/Computer Vision/OCT\n",
            "Copied OCT_Volume94.png to /content/drive/MyDrive/Colab Notebooks/Computer Vision/Shared Folder/Computer Vision/OCT\n",
            "Copied OCT_Volume97.png to /content/drive/MyDrive/Colab Notebooks/Computer Vision/Shared Folder/Computer Vision/OCT\n",
            "Copied OCT_Volume105.png to /content/drive/MyDrive/Colab Notebooks/Computer Vision/Shared Folder/Computer Vision/OCT\n",
            "Copied OCT_Volume109.png to /content/drive/MyDrive/Colab Notebooks/Computer Vision/Shared Folder/Computer Vision/OCT\n",
            "Copied OCT_Volume113.png to /content/drive/MyDrive/Colab Notebooks/Computer Vision/Shared Folder/Computer Vision/OCT\n",
            "Copied OCT_Volume117.png to /content/drive/MyDrive/Colab Notebooks/Computer Vision/Shared Folder/Computer Vision/OCT\n",
            "Copied OCT_Volume121.png to /content/drive/MyDrive/Colab Notebooks/Computer Vision/Shared Folder/Computer Vision/OCT\n",
            "Copied OCT_Volume125.png to /content/drive/MyDrive/Colab Notebooks/Computer Vision/Shared Folder/Computer Vision/OCT\n",
            "Copied OCT_Volume129.png to /content/drive/MyDrive/Colab Notebooks/Computer Vision/Shared Folder/Computer Vision/OCT\n",
            "Copied OCT_Volume133.png to /content/drive/MyDrive/Colab Notebooks/Computer Vision/Shared Folder/Computer Vision/OCT\n",
            "Copied OCT_Volume136.png to /content/drive/MyDrive/Colab Notebooks/Computer Vision/Shared Folder/Computer Vision/OCT\n",
            "Copied OCT_Volume139.png to /content/drive/MyDrive/Colab Notebooks/Computer Vision/Shared Folder/Computer Vision/OCT\n",
            "Copied OCT_Volume143.png to /content/drive/MyDrive/Colab Notebooks/Computer Vision/Shared Folder/Computer Vision/OCT\n",
            "Copied OCT_Volume147.png to /content/drive/MyDrive/Colab Notebooks/Computer Vision/Shared Folder/Computer Vision/OCT\n",
            "Copied OCT_Volume150.png to /content/drive/MyDrive/Colab Notebooks/Computer Vision/Shared Folder/Computer Vision/OCT\n",
            "Copied OCT_Volume154.png to /content/drive/MyDrive/Colab Notebooks/Computer Vision/Shared Folder/Computer Vision/OCT\n",
            "Copied OCT_Volume157.png to /content/drive/MyDrive/Colab Notebooks/Computer Vision/Shared Folder/Computer Vision/OCT\n",
            "Copied OCT_Volume161.png to /content/drive/MyDrive/Colab Notebooks/Computer Vision/Shared Folder/Computer Vision/OCT\n",
            "Copied OCT_Volume165.png to /content/drive/MyDrive/Colab Notebooks/Computer Vision/Shared Folder/Computer Vision/OCT\n",
            "Copied OCT_Volume173.png to /content/drive/MyDrive/Colab Notebooks/Computer Vision/Shared Folder/Computer Vision/OCT\n",
            "Copied OCT_Volume177.png to /content/drive/MyDrive/Colab Notebooks/Computer Vision/Shared Folder/Computer Vision/OCT\n",
            "Copied OCT_Volume180.png to /content/drive/MyDrive/Colab Notebooks/Computer Vision/Shared Folder/Computer Vision/OCT\n",
            "Copied OCT_Volume183.png to /content/drive/MyDrive/Colab Notebooks/Computer Vision/Shared Folder/Computer Vision/OCT\n",
            "Copied OCT_Volume187.png to /content/drive/MyDrive/Colab Notebooks/Computer Vision/Shared Folder/Computer Vision/OCT\n",
            "Copied OCT_Volume190.png to /content/drive/MyDrive/Colab Notebooks/Computer Vision/Shared Folder/Computer Vision/OCT\n",
            "Copied OCT_Volume194.png to /content/drive/MyDrive/Colab Notebooks/Computer Vision/Shared Folder/Computer Vision/OCT\n",
            "Copied OCT_Volume198.png to /content/drive/MyDrive/Colab Notebooks/Computer Vision/Shared Folder/Computer Vision/OCT\n",
            "Copied OCT_Volume202.png to /content/drive/MyDrive/Colab Notebooks/Computer Vision/Shared Folder/Computer Vision/OCT\n",
            "Copied OCT_Volume207.png to /content/drive/MyDrive/Colab Notebooks/Computer Vision/Shared Folder/Computer Vision/OCT\n",
            "Copied OCT_Volume210.png to /content/drive/MyDrive/Colab Notebooks/Computer Vision/Shared Folder/Computer Vision/OCT\n",
            "Copied OCT_Volume215.png to /content/drive/MyDrive/Colab Notebooks/Computer Vision/Shared Folder/Computer Vision/OCT\n",
            "Copied OCT_Volume218.png to /content/drive/MyDrive/Colab Notebooks/Computer Vision/Shared Folder/Computer Vision/OCT\n",
            "Copied OCT_Volume220.png to /content/drive/MyDrive/Colab Notebooks/Computer Vision/Shared Folder/Computer Vision/OCT\n",
            "Copied OCT_Volume224.png to /content/drive/MyDrive/Colab Notebooks/Computer Vision/Shared Folder/Computer Vision/OCT\n",
            "Copied OCT_Volume227.png to /content/drive/MyDrive/Colab Notebooks/Computer Vision/Shared Folder/Computer Vision/OCT\n",
            "Copied OCT_Volume231.png to /content/drive/MyDrive/Colab Notebooks/Computer Vision/Shared Folder/Computer Vision/OCT\n",
            "Copied OCT_Volume236.png to /content/drive/MyDrive/Colab Notebooks/Computer Vision/Shared Folder/Computer Vision/OCT\n",
            "Copied OCT_Volume239.png to /content/drive/MyDrive/Colab Notebooks/Computer Vision/Shared Folder/Computer Vision/OCT\n",
            "Copied OCT_Volume243.png to /content/drive/MyDrive/Colab Notebooks/Computer Vision/Shared Folder/Computer Vision/OCT\n",
            "Copied OCT_Volume247.png to /content/drive/MyDrive/Colab Notebooks/Computer Vision/Shared Folder/Computer Vision/OCT\n",
            "Copied OCT_Volume250.png to /content/drive/MyDrive/Colab Notebooks/Computer Vision/Shared Folder/Computer Vision/OCT\n",
            "Copied OCT_Volume253.png to /content/drive/MyDrive/Colab Notebooks/Computer Vision/Shared Folder/Computer Vision/OCT\n"
          ]
        }
      ]
    },
    {
      "cell_type": "code",
      "source": [
        "source_dir = base_path + 'H&E_all'\n",
        "destination_dir = base_path + 'H&E'\n",
        "copy_jpgs_by_row(extracted_rows, source_dir, destination_dir)"
      ],
      "metadata": {
        "colab": {
          "base_uri": "https://localhost:8080/"
        },
        "collapsed": true,
        "id": "swaYXEnMLh3w",
        "outputId": "7d307b05-45c8-4e66-d8f0-0ba4474d091b"
      },
      "execution_count": null,
      "outputs": [
        {
          "output_type": "stream",
          "name": "stdout",
          "text": [
            "Copied 16-253 5 13-L13 x2.5.jpg to /content/drive/MyDrive/Colab Notebooks/Computer Vision/Shared Folder/Computer Vision/H&E\n",
            "Copied 16-253 5 13-L9 x2.5.jpg to /content/drive/MyDrive/Colab Notebooks/Computer Vision/Shared Folder/Computer Vision/H&E\n",
            "Copied 16-253 5 13-L5 x2.5.jpg to /content/drive/MyDrive/Colab Notebooks/Computer Vision/Shared Folder/Computer Vision/H&E\n",
            "Copied 16-253 5 13-L1 x2.5.jpg to /content/drive/MyDrive/Colab Notebooks/Computer Vision/Shared Folder/Computer Vision/H&E\n",
            "Copied 16-253 5 12-L17 x2.5.jpg to /content/drive/MyDrive/Colab Notebooks/Computer Vision/Shared Folder/Computer Vision/H&E\n",
            "Copied 16-253 5 12-L13 x2.5.jpg to /content/drive/MyDrive/Colab Notebooks/Computer Vision/Shared Folder/Computer Vision/H&E\n",
            "Copied 16-253 5 12-L9 x2.5.jpg to /content/drive/MyDrive/Colab Notebooks/Computer Vision/Shared Folder/Computer Vision/H&E\n",
            "Copied 16-253 5 12-L5 x2.5.jpg to /content/drive/MyDrive/Colab Notebooks/Computer Vision/Shared Folder/Computer Vision/H&E\n",
            "Copied 16-253 5 12-L1 x2.5.jpg to /content/drive/MyDrive/Colab Notebooks/Computer Vision/Shared Folder/Computer Vision/H&E\n",
            "Copied 16-253 5 11-L17 x2.5.jpg to /content/drive/MyDrive/Colab Notebooks/Computer Vision/Shared Folder/Computer Vision/H&E\n",
            "Copied 16-253 5 11-L13 x2.5.jpg to /content/drive/MyDrive/Colab Notebooks/Computer Vision/Shared Folder/Computer Vision/H&E\n",
            "Copied 16-253 5 11-L9 x2.5.jpg to /content/drive/MyDrive/Colab Notebooks/Computer Vision/Shared Folder/Computer Vision/H&E\n",
            "Copied 16-253 5 11-L5 x2.5.jpg to /content/drive/MyDrive/Colab Notebooks/Computer Vision/Shared Folder/Computer Vision/H&E\n",
            "Copied 16-253 5 11-L1 x2.5.jpg to /content/drive/MyDrive/Colab Notebooks/Computer Vision/Shared Folder/Computer Vision/H&E\n",
            "Copied 16-253 5 10-L17 x2.5.jpg to /content/drive/MyDrive/Colab Notebooks/Computer Vision/Shared Folder/Computer Vision/H&E\n",
            "Copied 16-253 5 10-L13 x2.5.jpg to /content/drive/MyDrive/Colab Notebooks/Computer Vision/Shared Folder/Computer Vision/H&E\n",
            "Copied 16-253 5 10-L9 x2.5.jpg to /content/drive/MyDrive/Colab Notebooks/Computer Vision/Shared Folder/Computer Vision/H&E\n",
            "Copied 16-253 5 10-L5 x2.5.jpg to /content/drive/MyDrive/Colab Notebooks/Computer Vision/Shared Folder/Computer Vision/H&E\n",
            "Copied 16-253 5 10-L1 x2.5.jpg to /content/drive/MyDrive/Colab Notebooks/Computer Vision/Shared Folder/Computer Vision/H&E\n",
            "Copied 16-253 5 9-L17 x2.5.jpg to /content/drive/MyDrive/Colab Notebooks/Computer Vision/Shared Folder/Computer Vision/H&E\n",
            "Copied 16-253 5 9-L13 x2.5.jpg to /content/drive/MyDrive/Colab Notebooks/Computer Vision/Shared Folder/Computer Vision/H&E\n",
            "Copied 16-253 5 9-L9 x2.5.jpg to /content/drive/MyDrive/Colab Notebooks/Computer Vision/Shared Folder/Computer Vision/H&E\n",
            "Copied 16-253 5 9-L5 x2.5.jpg to /content/drive/MyDrive/Colab Notebooks/Computer Vision/Shared Folder/Computer Vision/H&E\n",
            "Copied 16-253 5 9-L1 x2.5.jpg to /content/drive/MyDrive/Colab Notebooks/Computer Vision/Shared Folder/Computer Vision/H&E\n",
            "Copied 16-253 5 8-L13 x2.5.jpg to /content/drive/MyDrive/Colab Notebooks/Computer Vision/Shared Folder/Computer Vision/H&E\n",
            "Copied 16-253 5 8-L9 x2.5.jpg to /content/drive/MyDrive/Colab Notebooks/Computer Vision/Shared Folder/Computer Vision/H&E\n",
            "Copied 16-253 5 8-L5 x2.5.jpg to /content/drive/MyDrive/Colab Notebooks/Computer Vision/Shared Folder/Computer Vision/H&E\n",
            "Copied 16-253 5 8-L1 x2.5.jpg to /content/drive/MyDrive/Colab Notebooks/Computer Vision/Shared Folder/Computer Vision/H&E\n",
            "Copied 16-253 5 7-L21 x2.5.jpg to /content/drive/MyDrive/Colab Notebooks/Computer Vision/Shared Folder/Computer Vision/H&E\n",
            "Copied 16-253 5 7-L17 x2.5.jpg to /content/drive/MyDrive/Colab Notebooks/Computer Vision/Shared Folder/Computer Vision/H&E\n",
            "Copied 16-253 5 7-L13 x2.5.jpg to /content/drive/MyDrive/Colab Notebooks/Computer Vision/Shared Folder/Computer Vision/H&E\n",
            "Copied 16-253 5 7-L9 x2.5.jpg to /content/drive/MyDrive/Colab Notebooks/Computer Vision/Shared Folder/Computer Vision/H&E\n",
            "Copied 16-253 5 7-L5 x2.5.jpg to /content/drive/MyDrive/Colab Notebooks/Computer Vision/Shared Folder/Computer Vision/H&E\n",
            "Copied 16-253 5 7-L1 x2.5.jpg to /content/drive/MyDrive/Colab Notebooks/Computer Vision/Shared Folder/Computer Vision/H&E\n",
            "Copied 16-253 5 6-L17 x2.5.jpg to /content/drive/MyDrive/Colab Notebooks/Computer Vision/Shared Folder/Computer Vision/H&E\n",
            "Copied 16-253 5 6-L13 x2.5.jpg to /content/drive/MyDrive/Colab Notebooks/Computer Vision/Shared Folder/Computer Vision/H&E\n",
            "Copied 16-253 5 6-L9 x2.5.jpg to /content/drive/MyDrive/Colab Notebooks/Computer Vision/Shared Folder/Computer Vision/H&E\n",
            "Copied 16-253 5 6-L5 x2.5.jpg to /content/drive/MyDrive/Colab Notebooks/Computer Vision/Shared Folder/Computer Vision/H&E\n",
            "Copied 16-253 5 6-L1 x2.5.jpg to /content/drive/MyDrive/Colab Notebooks/Computer Vision/Shared Folder/Computer Vision/H&E\n",
            "Copied 16-253 5 5-L13 x2.5.jpg to /content/drive/MyDrive/Colab Notebooks/Computer Vision/Shared Folder/Computer Vision/H&E\n",
            "Copied 16-253 5 5-L9 x2.5.jpg to /content/drive/MyDrive/Colab Notebooks/Computer Vision/Shared Folder/Computer Vision/H&E\n",
            "Copied 16-253 5 5-L1 x2.5.jpg to /content/drive/MyDrive/Colab Notebooks/Computer Vision/Shared Folder/Computer Vision/H&E\n",
            "Copied 16-253 5 4-L17 x2.5.jpg to /content/drive/MyDrive/Colab Notebooks/Computer Vision/Shared Folder/Computer Vision/H&E\n",
            "Copied 16-253 5 4-L13 x2.5.jpg to /content/drive/MyDrive/Colab Notebooks/Computer Vision/Shared Folder/Computer Vision/H&E\n",
            "Copied 16-253 5 4-L9 x2.5.jpg to /content/drive/MyDrive/Colab Notebooks/Computer Vision/Shared Folder/Computer Vision/H&E\n",
            "Copied 16-253 5 4-L5 x2.5.jpg to /content/drive/MyDrive/Colab Notebooks/Computer Vision/Shared Folder/Computer Vision/H&E\n",
            "Copied 16-253 5 4-L1 x2.5.jpg to /content/drive/MyDrive/Colab Notebooks/Computer Vision/Shared Folder/Computer Vision/H&E\n",
            "Copied 16-253 5 3-L17 x2.5.jpg to /content/drive/MyDrive/Colab Notebooks/Computer Vision/Shared Folder/Computer Vision/H&E\n",
            "Copied 16-253 5 3-L13 x2.5.jpg to /content/drive/MyDrive/Colab Notebooks/Computer Vision/Shared Folder/Computer Vision/H&E\n",
            "Copied 16-253 5 3-L9 x2.5.jpg to /content/drive/MyDrive/Colab Notebooks/Computer Vision/Shared Folder/Computer Vision/H&E\n",
            "Copied 16-253 5 3-L5 x2.5.jpg to /content/drive/MyDrive/Colab Notebooks/Computer Vision/Shared Folder/Computer Vision/H&E\n",
            "Copied 16-253 5 3-L1 x2.5.jpg to /content/drive/MyDrive/Colab Notebooks/Computer Vision/Shared Folder/Computer Vision/H&E\n",
            "Copied 16-253 5 2-L21 x2.5.jpg to /content/drive/MyDrive/Colab Notebooks/Computer Vision/Shared Folder/Computer Vision/H&E\n",
            "Copied 16-253 5 2-L17 x2.5.jpg to /content/drive/MyDrive/Colab Notebooks/Computer Vision/Shared Folder/Computer Vision/H&E\n",
            "Copied 16-253 5 2-L13 x2.5.jpg to /content/drive/MyDrive/Colab Notebooks/Computer Vision/Shared Folder/Computer Vision/H&E\n",
            "Copied 16-253 5 2-L9 x2.5.jpg to /content/drive/MyDrive/Colab Notebooks/Computer Vision/Shared Folder/Computer Vision/H&E\n",
            "Copied 16-253 5 2-L5 x2.5.jpg to /content/drive/MyDrive/Colab Notebooks/Computer Vision/Shared Folder/Computer Vision/H&E\n",
            "Copied 16-253 5 2-L1 x2.5.jpg to /content/drive/MyDrive/Colab Notebooks/Computer Vision/Shared Folder/Computer Vision/H&E\n",
            "Copied 16-253 5 1-L21 x2.5.jpg to /content/drive/MyDrive/Colab Notebooks/Computer Vision/Shared Folder/Computer Vision/H&E\n",
            "Copied 16-253 5 1-L17 x2.5.jpg to /content/drive/MyDrive/Colab Notebooks/Computer Vision/Shared Folder/Computer Vision/H&E\n",
            "Copied 16-253 5 1-L13 x2.5.jpg to /content/drive/MyDrive/Colab Notebooks/Computer Vision/Shared Folder/Computer Vision/H&E\n",
            "Copied 16-253 5 1-L9 x2.5.jpg to /content/drive/MyDrive/Colab Notebooks/Computer Vision/Shared Folder/Computer Vision/H&E\n",
            "Copied 16-253 5 1-L5 x2.5.jpg to /content/drive/MyDrive/Colab Notebooks/Computer Vision/Shared Folder/Computer Vision/H&E\n",
            "Copied 16-253 5 1-L1 x2.5.jpg to /content/drive/MyDrive/Colab Notebooks/Computer Vision/Shared Folder/Computer Vision/H&E\n"
          ]
        }
      ]
    },
    {
      "cell_type": "markdown",
      "source": [
        "## Double check if files extracted properly before proceeding to renaming"
      ],
      "metadata": {
        "id": "zlSSjTMnUHpZ"
      }
    },
    {
      "cell_type": "code",
      "source": [
        "# Rename files in frames_copied from OCT_Volume# to 02L_#_OCT.\n",
        "# Extract # from frames_copied and Rename files in 15-203 LAD H&E to 02L_#_hist\n",
        "frames_copied_path = base_path + 'OCT'\n",
        "he_path = base_path + 'H&E'\n",
        "\n",
        "# Rename files in frames_copied from OCT_Volume# to 02L_#_OCT\n",
        "for filename in os.listdir(frames_copied_path):\n",
        "    if filename.startswith('OCT_Volume'):\n",
        "        new_filename = re.sub(r'OCT_Volume(\\d+)', r'24LD_\\1_OCT', filename) ###########\n",
        "        os.rename(os.path.join(frames_copied_path, filename), os.path.join(frames_copied_path, new_filename))\n",
        "\n",
        "# These lists are used to rename files in a coordinated way, ensuring that the OCT and H&E images have corresponding numbers in their filenames.\n",
        "oct_files = [filename for filename in os.listdir(frames_copied_path) if filename.startswith('24LD_')] ##########\n",
        "print(len(oct_files), oct_files)\n",
        "\n",
        "he_files = [filename for filename in os.listdir(he_path)]\n",
        "print(len(he_files), he_files)\n",
        "'''\n",
        "def windows_like_sort_key(filename):\n",
        "    \"\"\"Custom key function to sort filenames like '16-253 int int-Lint x2.5.jpg'.\"\"\"\n",
        "    parts = re.findall(r'(\\d+)', filename)  # Extract all numeric parts\n",
        "    parts = [int(part) for part in parts]  # Convert to integers\n",
        "    return parts  # Use the list of integers as the sorting key\n",
        "he_files.sort(key=windows_like_sort_key, reverse=True)\n",
        "print(len(he_files), he_files)\n",
        "'''\n",
        "\n",
        "for i in range(min(len(oct_files), len(he_files))):\n",
        "  oct_filename = oct_files[i]\n",
        "  he_filename = he_files[i]\n",
        "  match = re.search(r'24LD_(\\d+)_OCT', oct_filename) #########\n",
        "  if match:\n",
        "      number = match.group(1)\n",
        "      new_he_filename = f'24LD_{number}_hist' ##########\n",
        "      os.rename(os.path.join(he_path, he_filename), os.path.join(he_path, new_he_filename))\n"
      ],
      "metadata": {
        "id": "d-1S82au_hzD",
        "colab": {
          "base_uri": "https://localhost:8080/"
        },
        "outputId": "51a70a6a-bffb-4ea9-e69b-7df0ea3626e2"
      },
      "execution_count": null,
      "outputs": [
        {
          "output_type": "stream",
          "name": "stdout",
          "text": [
            "64 ['24LD_19_OCT.png', '24LD_23_OCT.png', '24LD_27_OCT.png', '24LD_30_OCT.png', '24LD_34_OCT.png', '24LD_37_OCT.png', '24LD_41_OCT.png', '24LD_45_OCT.png', '24LD_49_OCT.png', '24LD_53_OCT.png', '24LD_56_OCT.png', '24LD_59_OCT.png', '24LD_63_OCT.png', '24LD_66_OCT.png', '24LD_70_OCT.png', '24LD_73_OCT.png', '24LD_76_OCT.png', '24LD_79_OCT.png', '24LD_82_OCT.png', '24LD_85_OCT.png', '24LD_88_OCT.png', '24LD_91_OCT.png', '24LD_94_OCT.png', '24LD_97_OCT.png', '24LD_105_OCT.png', '24LD_109_OCT.png', '24LD_113_OCT.png', '24LD_117_OCT.png', '24LD_121_OCT.png', '24LD_125_OCT.png', '24LD_129_OCT.png', '24LD_133_OCT.png', '24LD_136_OCT.png', '24LD_139_OCT.png', '24LD_143_OCT.png', '24LD_147_OCT.png', '24LD_150_OCT.png', '24LD_154_OCT.png', '24LD_157_OCT.png', '24LD_161_OCT.png', '24LD_165_OCT.png', '24LD_173_OCT.png', '24LD_177_OCT.png', '24LD_180_OCT.png', '24LD_183_OCT.png', '24LD_187_OCT.png', '24LD_190_OCT.png', '24LD_194_OCT.png', '24LD_198_OCT.png', '24LD_202_OCT.png', '24LD_207_OCT.png', '24LD_210_OCT.png', '24LD_215_OCT.png', '24LD_218_OCT.png', '24LD_220_OCT.png', '24LD_224_OCT.png', '24LD_227_OCT.png', '24LD_231_OCT.png', '24LD_236_OCT.png', '24LD_239_OCT.png', '24LD_243_OCT.png', '24LD_247_OCT.png', '24LD_250_OCT.png', '24LD_253_OCT.png']\n",
            "64 ['16-253 5 13-L13 x2.5.jpg', '16-253 5 13-L9 x2.5.jpg', '16-253 5 13-L5 x2.5.jpg', '16-253 5 13-L1 x2.5.jpg', '16-253 5 12-L17 x2.5.jpg', '16-253 5 12-L13 x2.5.jpg', '16-253 5 12-L9 x2.5.jpg', '16-253 5 12-L5 x2.5.jpg', '16-253 5 12-L1 x2.5.jpg', '16-253 5 11-L17 x2.5.jpg', '16-253 5 11-L13 x2.5.jpg', '16-253 5 11-L9 x2.5.jpg', '16-253 5 11-L5 x2.5.jpg', '16-253 5 11-L1 x2.5.jpg', '16-253 5 10-L17 x2.5.jpg', '16-253 5 10-L13 x2.5.jpg', '16-253 5 10-L9 x2.5.jpg', '16-253 5 10-L5 x2.5.jpg', '16-253 5 10-L1 x2.5.jpg', '16-253 5 9-L17 x2.5.jpg', '16-253 5 9-L13 x2.5.jpg', '16-253 5 9-L9 x2.5.jpg', '16-253 5 9-L5 x2.5.jpg', '16-253 5 9-L1 x2.5.jpg', '16-253 5 8-L13 x2.5.jpg', '16-253 5 8-L9 x2.5.jpg', '16-253 5 8-L5 x2.5.jpg', '16-253 5 8-L1 x2.5.jpg', '16-253 5 7-L21 x2.5.jpg', '16-253 5 7-L17 x2.5.jpg', '16-253 5 7-L13 x2.5.jpg', '16-253 5 7-L9 x2.5.jpg', '16-253 5 7-L5 x2.5.jpg', '16-253 5 7-L1 x2.5.jpg', '16-253 5 6-L17 x2.5.jpg', '16-253 5 6-L13 x2.5.jpg', '16-253 5 6-L9 x2.5.jpg', '16-253 5 6-L5 x2.5.jpg', '16-253 5 6-L1 x2.5.jpg', '16-253 5 5-L13 x2.5.jpg', '16-253 5 5-L9 x2.5.jpg', '16-253 5 5-L1 x2.5.jpg', '16-253 5 4-L17 x2.5.jpg', '16-253 5 4-L13 x2.5.jpg', '16-253 5 4-L9 x2.5.jpg', '16-253 5 4-L5 x2.5.jpg', '16-253 5 4-L1 x2.5.jpg', '16-253 5 3-L17 x2.5.jpg', '16-253 5 3-L13 x2.5.jpg', '16-253 5 3-L9 x2.5.jpg', '16-253 5 3-L5 x2.5.jpg', '16-253 5 3-L1 x2.5.jpg', '16-253 5 2-L21 x2.5.jpg', '16-253 5 2-L17 x2.5.jpg', '16-253 5 2-L13 x2.5.jpg', '16-253 5 2-L9 x2.5.jpg', '16-253 5 2-L5 x2.5.jpg', '16-253 5 2-L1 x2.5.jpg', '16-253 5 1-L21 x2.5.jpg', '16-253 5 1-L17 x2.5.jpg', '16-253 5 1-L13 x2.5.jpg', '16-253 5 1-L9 x2.5.jpg', '16-253 5 1-L5 x2.5.jpg', '16-253 5 1-L1 x2.5.jpg']\n"
          ]
        }
      ]
    },
    {
      "cell_type": "markdown",
      "source": [
        "# Extra"
      ],
      "metadata": {
        "id": "1dxFkevrHXHF"
      }
    },
    {
      "cell_type": "code",
      "source": [
        "# Duplicate frames_copied folder and 15-203 LAD H&E copied folder\n",
        "'''\n",
        "def duplicate_folder(source_folder, destination_folder):\n",
        "  \"\"\"Duplicates a folder and its contents to a new location.\n",
        "\n",
        "  Args:\n",
        "    source_folder: The path to the folder to be duplicated.\n",
        "    destination_folder: The path to the new folder where the copy will be created.\n",
        "  \"\"\"\n",
        "  try:\n",
        "    shutil.copytree(source_folder, destination_folder)\n",
        "    print(f\"Folder '{source_folder}' duplicated to '{destination_folder}'\")\n",
        "  except FileExistsError:\n",
        "    print(f\"Folder '{destination_folder}' already exists. Skipping duplication.\")\n",
        "\n",
        "\n",
        "# Usage:\n",
        "frames_copied_source = '/content/drive/MyDrive/Colab Notebooks/Computer Vision/Shared Folder/Computer Vision/OCT_extracted'\n",
        "frames_copied_destination = '/content/drive/MyDrive/Colab Notebooks/Computer Vision/Shared Folder/Computer Vision/OCT_extracted_base'\n",
        "duplicate_folder(frames_copied_source, frames_copied_destination)\n",
        "\n",
        "lad_he_copied_source = '/content/drive/MyDrive/Colab Notebooks/Computer Vision/Shared Folder/Computer Vision/H&E_extracted'\n",
        "lad_he_copied_destination = '/content/drive/MyDrive/Colab Notebooks/Computer Vision/Shared Folder/Computer Vision/H&E_extracted_base'\n",
        "duplicate_folder(lad_he_copied_source, lad_he_copied_destination)\n",
        "'''"
      ],
      "metadata": {
        "colab": {
          "base_uri": "https://localhost:8080/"
        },
        "id": "DjHwu-7dmp4l",
        "outputId": "da618eaf-6115-4a42-fb55-e435c79bf33e"
      },
      "execution_count": null,
      "outputs": [
        {
          "output_type": "stream",
          "name": "stdout",
          "text": [
            "Folder '/content/drive/MyDrive/Colab Notebooks/Computer Vision/Shared Folder/Computer Vision/OCT_extracted' duplicated to '/content/drive/MyDrive/Colab Notebooks/Computer Vision/Shared Folder/Computer Vision/OCT_extracted_base'\n",
            "Folder '/content/drive/MyDrive/Colab Notebooks/Computer Vision/Shared Folder/Computer Vision/H&E_extracted' duplicated to '/content/drive/MyDrive/Colab Notebooks/Computer Vision/Shared Folder/Computer Vision/H&E_extracted_base'\n"
          ]
        }
      ]
    }
  ]
}